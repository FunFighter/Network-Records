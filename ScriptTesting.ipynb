{
 "cells": [
  {
   "cell_type": "code",
   "execution_count": 1,
   "metadata": {},
   "outputs": [],
   "source": [
    "import speedtest\n",
    "import datetime\n",
    "import pymongo\n",
    "from pymongo import MongoClient"
   ]
  },
  {
   "cell_type": "code",
   "execution_count": 2,
   "metadata": {},
   "outputs": [],
   "source": [
    "# Set up the DataBase Connection\n",
    "client = MongoClient()\n",
    "db = client.SpeedTest"
   ]
  },
  {
   "cell_type": "code",
   "execution_count": 3,
   "metadata": {},
   "outputs": [],
   "source": [
    "currentDT = datetime.datetime.now()"
   ]
  },
  {
   "cell_type": "code",
   "execution_count": 4,
   "metadata": {},
   "outputs": [],
   "source": [
    "def test():\n",
    "    s = speedtest.Speedtest()\n",
    "    s.get_servers()\n",
    "    s.get_best_server()\n",
    "    s.download()\n",
    "    s.upload()\n",
    "    res = s.results.dict()\n",
    "    return res[\"download\"]/1000000, res[\"upload\"]/1000000, res[\"ping\"], res['timestamp']"
   ]
  },
  {
   "cell_type": "code",
   "execution_count": 5,
   "metadata": {},
   "outputs": [],
   "source": [
    "def post_mongo():\n",
    "    d, u, p, t = test()\n",
    "    post = {\n",
    "    'test' : currentDT,\n",
    "    'download' : d,\n",
    "    'upload' : u,\n",
    "    'ping' : p,\n",
    "    'timeStamp' : t\n",
    "    }\n",
    "    posts = db.post\n",
    "    post_id = posts.insert_one(post).inserted_id"
   ]
  },
  {
   "cell_type": "code",
   "execution_count": 6,
   "metadata": {},
   "outputs": [],
   "source": [
    "def main():\n",
    "    # write to csv\n",
    "    with open('file.csv', 'w') as f:\n",
    "        f.write('download,upload,ping,date\\n')\n",
    "        for i in range(3):\n",
    "            print('Making test #{}'.format(i+1))\n",
    "            d, u, p, t = test()\n",
    "            f.write('{},{},{},{}\\n'.format(d, u, p, t))\n",
    "    \n",
    "    post_mongo()"
   ]
  },
  {
   "cell_type": "code",
   "execution_count": 7,
   "metadata": {},
   "outputs": [
    {
     "name": "stdout",
     "output_type": "stream",
     "text": [
      "Making test #1\n",
      "Making test #2\n",
      "Making test #3\n"
     ]
    }
   ],
   "source": [
    "if __name__ == '__main__':\n",
    "    main() "
   ]
  }
 ],
 "metadata": {
  "kernelspec": {
   "display_name": "Python 3",
   "language": "python",
   "name": "python3"
  },
  "language_info": {
   "codemirror_mode": {
    "name": "ipython",
    "version": 3
   },
   "file_extension": ".py",
   "mimetype": "text/x-python",
   "name": "python",
   "nbconvert_exporter": "python",
   "pygments_lexer": "ipython3",
   "version": "3.7.0"
  }
 },
 "nbformat": 4,
 "nbformat_minor": 2
}
