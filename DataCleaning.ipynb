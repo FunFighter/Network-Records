{
 "cells": [
  {
   "cell_type": "code",
   "execution_count": 1,
   "metadata": {},
   "outputs": [],
   "source": [
    "import numpy as np\n",
    "import pandas as pd\n",
    "import matplotlib.pyplot as plt\n",
    "import pprint\n",
    "import pymongo\n",
    "from pymongo import MongoClient"
   ]
  },
  {
   "cell_type": "code",
   "execution_count": 2,
   "metadata": {},
   "outputs": [],
   "source": [
    "# Set up the DataBase Connection\n",
    "client = MongoClient()\n",
    "db = client.SpeedTest"
   ]
  },
  {
   "cell_type": "code",
   "execution_count": 3,
   "metadata": {},
   "outputs": [],
   "source": [
    "posts = db.post.find()"
   ]
  },
  {
   "cell_type": "code",
   "execution_count": 4,
   "metadata": {},
   "outputs": [],
   "source": [
    "# for post in posts:\n",
    "#     res = pprint.pprint('{0}, {1}, {2}, {3}'.format(post['localTime'], \n",
    "#         post['download'],post['upload'],post['ping']))"
   ]
  },
  {
   "cell_type": "code",
   "execution_count": 5,
   "metadata": {},
   "outputs": [],
   "source": [
    "db_list = list(posts)"
   ]
  },
  {
   "cell_type": "code",
   "execution_count": 6,
   "metadata": {},
   "outputs": [
    {
     "data": {
      "text/plain": [
       "77"
      ]
     },
     "execution_count": 6,
     "metadata": {},
     "output_type": "execute_result"
    }
   ],
   "source": [
    "db_df = pd.DataFrame(db_list)\n",
    "len(db_df)"
   ]
  },
  {
   "cell_type": "code",
   "execution_count": 7,
   "metadata": {},
   "outputs": [],
   "source": [
    "clean_df = db_df.drop(db_df.tail(3).index)\n",
    "clean_df = clean_df.drop(columns=['_id','timeStamp'])"
   ]
  },
  {
   "cell_type": "code",
   "execution_count": null,
   "metadata": {},
   "outputs": [],
   "source": []
  },
  {
   "cell_type": "code",
   "execution_count": 8,
   "metadata": {},
   "outputs": [],
   "source": [
    "clean_df = clean_df.set_index(pd.DatetimeIndex(clean_df['localTime'])).drop(columns='localTime')"
   ]
  },
  {
   "cell_type": "code",
   "execution_count": null,
   "metadata": {},
   "outputs": [],
   "source": []
  },
  {
   "cell_type": "code",
   "execution_count": 9,
   "metadata": {},
   "outputs": [],
   "source": [
    "sorted_df = clean_df.groupby([clean_df.index.day ,clean_df.index.hour]).mean()"
   ]
  },
  {
   "cell_type": "code",
   "execution_count": 10,
   "metadata": {},
   "outputs": [
    {
     "data": {
      "text/html": [
       "<div>\n",
       "<style scoped>\n",
       "    .dataframe tbody tr th:only-of-type {\n",
       "        vertical-align: middle;\n",
       "    }\n",
       "\n",
       "    .dataframe tbody tr th {\n",
       "        vertical-align: top;\n",
       "    }\n",
       "\n",
       "    .dataframe thead th {\n",
       "        text-align: right;\n",
       "    }\n",
       "</style>\n",
       "<table border=\"1\" class=\"dataframe\">\n",
       "  <thead>\n",
       "    <tr style=\"text-align: right;\">\n",
       "      <th></th>\n",
       "      <th></th>\n",
       "      <th>download</th>\n",
       "      <th>ping</th>\n",
       "      <th>upload</th>\n",
       "    </tr>\n",
       "    <tr>\n",
       "      <th>localTime</th>\n",
       "      <th>localTime</th>\n",
       "      <th></th>\n",
       "      <th></th>\n",
       "      <th></th>\n",
       "    </tr>\n",
       "  </thead>\n",
       "  <tbody>\n",
       "    <tr>\n",
       "      <th rowspan=\"12\" valign=\"top\">10</th>\n",
       "      <th>12</th>\n",
       "      <td>65.344468</td>\n",
       "      <td>16.632667</td>\n",
       "      <td>20.449267</td>\n",
       "    </tr>\n",
       "    <tr>\n",
       "      <th>13</th>\n",
       "      <td>66.189897</td>\n",
       "      <td>15.652750</td>\n",
       "      <td>20.024543</td>\n",
       "    </tr>\n",
       "    <tr>\n",
       "      <th>14</th>\n",
       "      <td>81.098625</td>\n",
       "      <td>21.972500</td>\n",
       "      <td>18.835570</td>\n",
       "    </tr>\n",
       "    <tr>\n",
       "      <th>15</th>\n",
       "      <td>64.320798</td>\n",
       "      <td>15.761000</td>\n",
       "      <td>18.241255</td>\n",
       "    </tr>\n",
       "    <tr>\n",
       "      <th>16</th>\n",
       "      <td>66.316131</td>\n",
       "      <td>17.150400</td>\n",
       "      <td>20.913376</td>\n",
       "    </tr>\n",
       "    <tr>\n",
       "      <th>17</th>\n",
       "      <td>64.516365</td>\n",
       "      <td>16.764750</td>\n",
       "      <td>21.338887</td>\n",
       "    </tr>\n",
       "    <tr>\n",
       "      <th>18</th>\n",
       "      <td>66.113624</td>\n",
       "      <td>16.239250</td>\n",
       "      <td>21.364131</td>\n",
       "    </tr>\n",
       "    <tr>\n",
       "      <th>19</th>\n",
       "      <td>88.281454</td>\n",
       "      <td>30.822500</td>\n",
       "      <td>11.811240</td>\n",
       "    </tr>\n",
       "    <tr>\n",
       "      <th>20</th>\n",
       "      <td>83.648311</td>\n",
       "      <td>25.788250</td>\n",
       "      <td>14.408955</td>\n",
       "    </tr>\n",
       "    <tr>\n",
       "      <th>21</th>\n",
       "      <td>80.113548</td>\n",
       "      <td>16.224500</td>\n",
       "      <td>19.894686</td>\n",
       "    </tr>\n",
       "    <tr>\n",
       "      <th>22</th>\n",
       "      <td>63.712783</td>\n",
       "      <td>16.446750</td>\n",
       "      <td>20.834971</td>\n",
       "    </tr>\n",
       "    <tr>\n",
       "      <th>23</th>\n",
       "      <td>64.386569</td>\n",
       "      <td>16.884000</td>\n",
       "      <td>20.653290</td>\n",
       "    </tr>\n",
       "    <tr>\n",
       "      <th rowspan=\"7\" valign=\"top\">11</th>\n",
       "      <th>0</th>\n",
       "      <td>74.337939</td>\n",
       "      <td>15.933250</td>\n",
       "      <td>20.891138</td>\n",
       "    </tr>\n",
       "    <tr>\n",
       "      <th>1</th>\n",
       "      <td>74.724297</td>\n",
       "      <td>16.764750</td>\n",
       "      <td>21.053939</td>\n",
       "    </tr>\n",
       "    <tr>\n",
       "      <th>2</th>\n",
       "      <td>77.782134</td>\n",
       "      <td>18.258500</td>\n",
       "      <td>21.033766</td>\n",
       "    </tr>\n",
       "    <tr>\n",
       "      <th>3</th>\n",
       "      <td>76.585785</td>\n",
       "      <td>15.686000</td>\n",
       "      <td>21.185391</td>\n",
       "    </tr>\n",
       "    <tr>\n",
       "      <th>4</th>\n",
       "      <td>73.647860</td>\n",
       "      <td>17.060500</td>\n",
       "      <td>19.257284</td>\n",
       "    </tr>\n",
       "    <tr>\n",
       "      <th>5</th>\n",
       "      <td>67.705702</td>\n",
       "      <td>16.829750</td>\n",
       "      <td>21.083522</td>\n",
       "    </tr>\n",
       "    <tr>\n",
       "      <th>6</th>\n",
       "      <td>65.418774</td>\n",
       "      <td>17.034750</td>\n",
       "      <td>19.927827</td>\n",
       "    </tr>\n",
       "  </tbody>\n",
       "</table>\n",
       "</div>"
      ],
      "text/plain": [
       "                      download       ping     upload\n",
       "localTime localTime                                 \n",
       "10        12         65.344468  16.632667  20.449267\n",
       "          13         66.189897  15.652750  20.024543\n",
       "          14         81.098625  21.972500  18.835570\n",
       "          15         64.320798  15.761000  18.241255\n",
       "          16         66.316131  17.150400  20.913376\n",
       "          17         64.516365  16.764750  21.338887\n",
       "          18         66.113624  16.239250  21.364131\n",
       "          19         88.281454  30.822500  11.811240\n",
       "          20         83.648311  25.788250  14.408955\n",
       "          21         80.113548  16.224500  19.894686\n",
       "          22         63.712783  16.446750  20.834971\n",
       "          23         64.386569  16.884000  20.653290\n",
       "11        0          74.337939  15.933250  20.891138\n",
       "          1          74.724297  16.764750  21.053939\n",
       "          2          77.782134  18.258500  21.033766\n",
       "          3          76.585785  15.686000  21.185391\n",
       "          4          73.647860  17.060500  19.257284\n",
       "          5          67.705702  16.829750  21.083522\n",
       "          6          65.418774  17.034750  19.927827"
      ]
     },
     "execution_count": 10,
     "metadata": {},
     "output_type": "execute_result"
    }
   ],
   "source": [
    "sorted_df"
   ]
  },
  {
   "cell_type": "code",
   "execution_count": 11,
   "metadata": {},
   "outputs": [
    {
     "data": {
      "text/plain": [
       "<matplotlib.axes._subplots.AxesSubplot at 0x227e4b74fd0>"
      ]
     },
     "execution_count": 11,
     "metadata": {},
     "output_type": "execute_result"
    },
    {
     "data": {
      "image/png": "[encoded data removed]",
      "text/plain": [
       "<Figure size 432x288 with 1 Axes>"
      ]
     },
     "metadata": {
      "needs_background": "light"
     },
     "output_type": "display_data"
    }
   ],
   "source": [
    "sorted_df.plot()"
   ]
  },
  {
   "cell_type": "code",
   "execution_count": null,
   "metadata": {},
   "outputs": [],
   "source": []
  }
 ],
 "metadata": {
  "kernelspec": {
   "display_name": "Python 3",
   "language": "python",
   "name": "python3"
  },
  "language_info": {
   "codemirror_mode": {
    "name": "ipython",
    "version": 3
   },
   "file_extension": ".py",
   "mimetype": "text/x-python",
   "name": "python",
   "nbconvert_exporter": "python",
   "pygments_lexer": "ipython3",
   "version": "3.7.0"
  }
 },
 "nbformat": 4,
 "nbformat_minor": 2
}
